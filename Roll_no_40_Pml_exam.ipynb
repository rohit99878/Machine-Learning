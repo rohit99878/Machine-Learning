{
 "cells": [
  {
   "cell_type": "markdown",
   "id": "eb20d35b",
   "metadata": {},
   "source": [
    "# Problem Statement 1:"
   ]
  },
  {
   "cell_type": "code",
   "execution_count": 94,
   "id": "d4afafd7",
   "metadata": {},
   "outputs": [],
   "source": [
    "import pandas as pd\n",
    "import numpy as np\n",
    "import matplotlib.pyplot as plt\n",
    "import seaborn as sns"
   ]
  },
  {
   "cell_type": "code",
   "execution_count": 95,
   "id": "b8e0ae9f",
   "metadata": {},
   "outputs": [],
   "source": [
    "df= pd.read_csv(\"data.csv\")"
   ]
  },
  {
   "cell_type": "code",
   "execution_count": 96,
   "id": "a8d67fee",
   "metadata": {},
   "outputs": [
    {
     "data": {
      "text/html": [
       "<div>\n",
       "<style scoped>\n",
       "    .dataframe tbody tr th:only-of-type {\n",
       "        vertical-align: middle;\n",
       "    }\n",
       "\n",
       "    .dataframe tbody tr th {\n",
       "        vertical-align: top;\n",
       "    }\n",
       "\n",
       "    .dataframe thead th {\n",
       "        text-align: right;\n",
       "    }\n",
       "</style>\n",
       "<table border=\"1\" class=\"dataframe\">\n",
       "  <thead>\n",
       "    <tr style=\"text-align: right;\">\n",
       "      <th></th>\n",
       "      <th>F</th>\n",
       "      <th>N</th>\n",
       "      <th>Prprice per square foot</th>\n",
       "    </tr>\n",
       "  </thead>\n",
       "  <tbody>\n",
       "    <tr>\n",
       "      <th>0</th>\n",
       "      <td>0.44</td>\n",
       "      <td>0.68</td>\n",
       "      <td>511.14</td>\n",
       "    </tr>\n",
       "    <tr>\n",
       "      <th>1</th>\n",
       "      <td>0.99</td>\n",
       "      <td>0.23</td>\n",
       "      <td>717.10</td>\n",
       "    </tr>\n",
       "    <tr>\n",
       "      <th>2</th>\n",
       "      <td>0.84</td>\n",
       "      <td>0.29</td>\n",
       "      <td>607.91</td>\n",
       "    </tr>\n",
       "    <tr>\n",
       "      <th>3</th>\n",
       "      <td>0.28</td>\n",
       "      <td>0.45</td>\n",
       "      <td>270.40</td>\n",
       "    </tr>\n",
       "    <tr>\n",
       "      <th>4</th>\n",
       "      <td>0.07</td>\n",
       "      <td>0.83</td>\n",
       "      <td>289.88</td>\n",
       "    </tr>\n",
       "  </tbody>\n",
       "</table>\n",
       "</div>"
      ],
      "text/plain": [
       "      F     N  Prprice per square foot\n",
       "0  0.44  0.68                   511.14\n",
       "1  0.99  0.23                   717.10\n",
       "2  0.84  0.29                   607.91\n",
       "3  0.28  0.45                   270.40\n",
       "4  0.07  0.83                   289.88"
      ]
     },
     "execution_count": 96,
     "metadata": {},
     "output_type": "execute_result"
    }
   ],
   "source": [
    "df.head()"
   ]
  },
  {
   "cell_type": "code",
   "execution_count": 97,
   "id": "1c88f3d0",
   "metadata": {},
   "outputs": [
    {
     "data": {
      "text/html": [
       "<div>\n",
       "<style scoped>\n",
       "    .dataframe tbody tr th:only-of-type {\n",
       "        vertical-align: middle;\n",
       "    }\n",
       "\n",
       "    .dataframe tbody tr th {\n",
       "        vertical-align: top;\n",
       "    }\n",
       "\n",
       "    .dataframe thead th {\n",
       "        text-align: right;\n",
       "    }\n",
       "</style>\n",
       "<table border=\"1\" class=\"dataframe\">\n",
       "  <thead>\n",
       "    <tr style=\"text-align: right;\">\n",
       "      <th></th>\n",
       "      <th>F</th>\n",
       "      <th>N</th>\n",
       "      <th>Prprice per square foot</th>\n",
       "    </tr>\n",
       "  </thead>\n",
       "  <tbody>\n",
       "    <tr>\n",
       "      <th>count</th>\n",
       "      <td>100.000000</td>\n",
       "      <td>100.000000</td>\n",
       "      <td>100.000000</td>\n",
       "    </tr>\n",
       "    <tr>\n",
       "      <th>mean</th>\n",
       "      <td>0.550300</td>\n",
       "      <td>0.501700</td>\n",
       "      <td>554.214600</td>\n",
       "    </tr>\n",
       "    <tr>\n",
       "      <th>std</th>\n",
       "      <td>0.293841</td>\n",
       "      <td>0.307124</td>\n",
       "      <td>347.312796</td>\n",
       "    </tr>\n",
       "    <tr>\n",
       "      <th>min</th>\n",
       "      <td>0.010000</td>\n",
       "      <td>0.000000</td>\n",
       "      <td>42.080000</td>\n",
       "    </tr>\n",
       "    <tr>\n",
       "      <th>25%</th>\n",
       "      <td>0.300000</td>\n",
       "      <td>0.230000</td>\n",
       "      <td>278.172500</td>\n",
       "    </tr>\n",
       "    <tr>\n",
       "      <th>50%</th>\n",
       "      <td>0.570000</td>\n",
       "      <td>0.485000</td>\n",
       "      <td>514.285000</td>\n",
       "    </tr>\n",
       "    <tr>\n",
       "      <th>75%</th>\n",
       "      <td>0.822500</td>\n",
       "      <td>0.760000</td>\n",
       "      <td>751.752500</td>\n",
       "    </tr>\n",
       "    <tr>\n",
       "      <th>max</th>\n",
       "      <td>1.000000</td>\n",
       "      <td>0.990000</td>\n",
       "      <td>1563.820000</td>\n",
       "    </tr>\n",
       "  </tbody>\n",
       "</table>\n",
       "</div>"
      ],
      "text/plain": [
       "                F           N  Prprice per square foot\n",
       "count  100.000000  100.000000               100.000000\n",
       "mean     0.550300    0.501700               554.214600\n",
       "std      0.293841    0.307124               347.312796\n",
       "min      0.010000    0.000000                42.080000\n",
       "25%      0.300000    0.230000               278.172500\n",
       "50%      0.570000    0.485000               514.285000\n",
       "75%      0.822500    0.760000               751.752500\n",
       "max      1.000000    0.990000              1563.820000"
      ]
     },
     "execution_count": 97,
     "metadata": {},
     "output_type": "execute_result"
    }
   ],
   "source": [
    "df.describe()"
   ]
  },
  {
   "cell_type": "code",
   "execution_count": 98,
   "id": "bdfadd40",
   "metadata": {},
   "outputs": [
    {
     "data": {
      "text/plain": [
       "(100, 3)"
      ]
     },
     "execution_count": 98,
     "metadata": {},
     "output_type": "execute_result"
    }
   ],
   "source": [
    "df.shape"
   ]
  },
  {
   "cell_type": "code",
   "execution_count": 99,
   "id": "bb575c6f",
   "metadata": {},
   "outputs": [
    {
     "data": {
      "text/plain": [
       "F                          0\n",
       "N                          0\n",
       "Prprice per square foot    0\n",
       "dtype: int64"
      ]
     },
     "execution_count": 99,
     "metadata": {},
     "output_type": "execute_result"
    }
   ],
   "source": [
    "df.isnull().sum()"
   ]
  },
  {
   "cell_type": "code",
   "execution_count": 100,
   "id": "a1450f36",
   "metadata": {},
   "outputs": [],
   "source": [
    "X=df.iloc[:,1:-1].values\n",
    "y=df.iloc[:,-1].values"
   ]
  },
  {
   "cell_type": "code",
   "execution_count": 101,
   "id": "1f10cb37",
   "metadata": {},
   "outputs": [],
   "source": [
    "from sklearn.model_selection import train_test_split\n",
    "X_train,X_test,y_train,y_test=train_test_split(X,y,test_size=0.2,random_state=0)"
   ]
  },
  {
   "cell_type": "code",
   "execution_count": 102,
   "id": "8e8d97ee",
   "metadata": {},
   "outputs": [
    {
     "data": {
      "text/plain": [
       "array([[0.68],\n",
       "       [0.23],\n",
       "       [0.29],\n",
       "       [0.45],\n",
       "       [0.83],\n",
       "       [0.8 ],\n",
       "       [0.92],\n",
       "       [0.43],\n",
       "       [0.89],\n",
       "       [0.95],\n",
       "       [0.06],\n",
       "       [0.91],\n",
       "       [0.69],\n",
       "       [0.94],\n",
       "       [0.06],\n",
       "       [0.17],\n",
       "       [0.66],\n",
       "       [0.43],\n",
       "       [0.64],\n",
       "       [0.44],\n",
       "       [0.93],\n",
       "       [0.43],\n",
       "       [0.85],\n",
       "       [0.07],\n",
       "       [0.52],\n",
       "       [0.15],\n",
       "       [0.13],\n",
       "       [0.6 ],\n",
       "       [0.4 ],\n",
       "       [0.65],\n",
       "       [0.17],\n",
       "       [0.97],\n",
       "       [0.04],\n",
       "       [0.53],\n",
       "       [0.85],\n",
       "       [0.69],\n",
       "       [0.22],\n",
       "       [0.15],\n",
       "       [0.02],\n",
       "       [0.91],\n",
       "       [0.76],\n",
       "       [0.19],\n",
       "       [0.62],\n",
       "       [0.17],\n",
       "       [0.69],\n",
       "       [0.76],\n",
       "       [0.23],\n",
       "       [0.96],\n",
       "       [0.03],\n",
       "       [0.23],\n",
       "       [0.11],\n",
       "       [0.87],\n",
       "       [0.97],\n",
       "       [0.25],\n",
       "       [0.58],\n",
       "       [0.42],\n",
       "       [0.24],\n",
       "       [0.62],\n",
       "       [0.15],\n",
       "       [0.95],\n",
       "       [0.64],\n",
       "       [0.64],\n",
       "       [0.4 ],\n",
       "       [0.12],\n",
       "       [0.22],\n",
       "       [0.4 ],\n",
       "       [0.87],\n",
       "       [0.99],\n",
       "       [0.26],\n",
       "       [0.12],\n",
       "       [0.28],\n",
       "       [0.48],\n",
       "       [0.56],\n",
       "       [0.03],\n",
       "       [0.34],\n",
       "       [0.99],\n",
       "       [0.66],\n",
       "       [0.65],\n",
       "       [0.94],\n",
       "       [0.96],\n",
       "       [0.42],\n",
       "       [0.62],\n",
       "       [0.57],\n",
       "       [0.61],\n",
       "       [0.  ],\n",
       "       [0.3 ],\n",
       "       [0.08],\n",
       "       [0.49],\n",
       "       [0.01],\n",
       "       [0.23],\n",
       "       [0.94],\n",
       "       [0.98],\n",
       "       [0.68],\n",
       "       [0.46],\n",
       "       [0.5 ],\n",
       "       [0.13],\n",
       "       [0.46],\n",
       "       [0.36],\n",
       "       [0.87],\n",
       "       [0.36]])"
      ]
     },
     "execution_count": 102,
     "metadata": {},
     "output_type": "execute_result"
    }
   ],
   "source": [
    "X"
   ]
  },
  {
   "cell_type": "code",
   "execution_count": 103,
   "id": "599e1f31",
   "metadata": {},
   "outputs": [
    {
     "data": {
      "text/plain": [
       "array([ 511.14,  717.1 ,  607.91,  270.4 ,  289.88,  830.85, 1038.09,\n",
       "        455.19,  640.17,  511.06,  177.03, 1242.52,  891.37, 1339.72,\n",
       "        169.88,  276.05,  517.43,  522.25,  932.21,  851.25,  640.11,\n",
       "        308.68, 1046.05,  332.4 ,  171.85,  109.55,  361.97,  872.21,\n",
       "        303.7 ,  256.38,  341.2 , 1194.63,  408.6 ,  895.54,  518.25,\n",
       "        638.75,  301.9 ,  163.38,  240.77, 1449.05,  609.  ,  174.59,\n",
       "        593.45,  355.96,  671.46, 1193.7 ,  278.88,  411.4 ,   42.08,\n",
       "        166.19,   58.62,  642.45,  368.14,  702.78,  615.74,  143.79,\n",
       "        109.  ,  328.28,  205.16, 1360.49,  905.83,  487.33,  202.76,\n",
       "        202.01,  148.87,  745.3 ,  503.04, 1563.82,  165.21,  438.4 ,\n",
       "         98.47,  819.63,  174.44,  483.13,  534.24,  572.31,  957.61,\n",
       "        518.29, 1143.49, 1211.31,  784.74,  283.7 ,  684.38,  719.46,\n",
       "        292.23,  775.68,  130.77,  801.6 ,  323.55,  726.9 ,  661.12,\n",
       "        771.11, 1016.14,  237.69,  325.89,  636.22,  272.12,  696.65,\n",
       "        434.53,  593.86])"
      ]
     },
     "execution_count": 103,
     "metadata": {},
     "output_type": "execute_result"
    }
   ],
   "source": [
    "y"
   ]
  },
  {
   "cell_type": "code",
   "execution_count": 104,
   "id": "b01db03a",
   "metadata": {},
   "outputs": [
    {
     "data": {
      "text/plain": [
       "LinearRegression()"
      ]
     },
     "execution_count": 104,
     "metadata": {},
     "output_type": "execute_result"
    }
   ],
   "source": [
    "from sklearn.linear_model import LinearRegression\n",
    "reg = LinearRegression()\n",
    "reg.fit(X_train,y_train)"
   ]
  },
  {
   "cell_type": "code",
   "execution_count": 105,
   "id": "e220d62e",
   "metadata": {},
   "outputs": [
    {
     "data": {
      "text/plain": [
       "[<matplotlib.lines.Line2D at 0x21fa91c2a00>]"
      ]
     },
     "execution_count": 105,
     "metadata": {},
     "output_type": "execute_result"
    },
    {
     "data": {
      "image/png": "[encoded data removed]",
      "text/plain": [
       "<Figure size 432x288 with 1 Axes>"
      ]
     },
     "metadata": {
      "needs_background": "light"
     },
     "output_type": "display_data"
    }
   ],
   "source": [
    "plt.scatter(X,y, color = 'red')\n",
    "plt.plot(X,reg.predict(X), color = 'black')"
   ]
  },
  {
   "cell_type": "code",
   "execution_count": 106,
   "id": "615f81c0",
   "metadata": {},
   "outputs": [
    {
     "data": {
      "text/plain": [
       "array([[1.000e+00, 1.700e-01, 2.890e-02],\n",
       "       [1.000e+00, 4.000e-01, 1.600e-01],\n",
       "       [1.000e+00, 4.500e-01, 2.025e-01],\n",
       "       [1.000e+00, 4.800e-01, 2.304e-01],\n",
       "       [1.000e+00, 7.600e-01, 5.776e-01],\n",
       "       [1.000e+00, 3.000e-02, 9.000e-04],\n",
       "       [1.000e+00, 9.200e-01, 8.464e-01],\n",
       "       [1.000e+00, 3.600e-01, 1.296e-01],\n",
       "       [1.000e+00, 5.700e-01, 3.249e-01],\n",
       "       [1.000e+00, 6.600e-01, 4.356e-01],\n",
       "       [1.000e+00, 6.400e-01, 4.096e-01],\n",
       "       [1.000e+00, 4.200e-01, 1.764e-01],\n",
       "       [1.000e+00, 9.400e-01, 8.836e-01],\n",
       "       [1.000e+00, 2.600e-01, 6.760e-02],\n",
       "       [1.000e+00, 8.700e-01, 7.569e-01],\n",
       "       [1.000e+00, 6.000e-01, 3.600e-01],\n",
       "       [1.000e+00, 6.400e-01, 4.096e-01],\n",
       "       [1.000e+00, 2.400e-01, 5.760e-02],\n",
       "       [1.000e+00, 1.200e-01, 1.440e-02],\n",
       "       [1.000e+00, 3.400e-01, 1.156e-01],\n",
       "       [1.000e+00, 2.300e-01, 5.290e-02],\n",
       "       [1.000e+00, 6.400e-01, 4.096e-01],\n",
       "       [1.000e+00, 6.200e-01, 3.844e-01],\n",
       "       [1.000e+00, 1.900e-01, 3.610e-02],\n",
       "       [1.000e+00, 8.300e-01, 6.889e-01],\n",
       "       [1.000e+00, 1.700e-01, 2.890e-02],\n",
       "       [1.000e+00, 4.300e-01, 1.849e-01],\n",
       "       [1.000e+00, 7.600e-01, 5.776e-01],\n",
       "       [1.000e+00, 2.000e-02, 4.000e-04],\n",
       "       [1.000e+00, 8.000e-01, 6.400e-01],\n",
       "       [1.000e+00, 9.800e-01, 9.604e-01],\n",
       "       [1.000e+00, 9.500e-01, 9.025e-01],\n",
       "       [1.000e+00, 6.800e-01, 4.624e-01],\n",
       "       [1.000e+00, 8.500e-01, 7.225e-01],\n",
       "       [1.000e+00, 4.000e-01, 1.600e-01],\n",
       "       [1.000e+00, 1.100e-01, 1.210e-02],\n",
       "       [1.000e+00, 9.100e-01, 8.281e-01],\n",
       "       [1.000e+00, 6.900e-01, 4.761e-01],\n",
       "       [1.000e+00, 7.000e-02, 4.900e-03],\n",
       "       [1.000e+00, 9.700e-01, 9.409e-01],\n",
       "       [1.000e+00, 6.000e-02, 3.600e-03],\n",
       "       [1.000e+00, 9.700e-01, 9.409e-01],\n",
       "       [1.000e+00, 8.700e-01, 7.569e-01],\n",
       "       [1.000e+00, 6.200e-01, 3.844e-01],\n",
       "       [1.000e+00, 9.600e-01, 9.216e-01],\n",
       "       [1.000e+00, 3.000e-01, 9.000e-02],\n",
       "       [1.000e+00, 4.000e-02, 1.600e-03],\n",
       "       [1.000e+00, 0.000e+00, 0.000e+00],\n",
       "       [1.000e+00, 6.000e-02, 3.600e-03],\n",
       "       [1.000e+00, 2.300e-01, 5.290e-02],\n",
       "       [1.000e+00, 4.400e-01, 1.936e-01],\n",
       "       [1.000e+00, 6.500e-01, 4.225e-01],\n",
       "       [1.000e+00, 2.300e-01, 5.290e-02],\n",
       "       [1.000e+00, 3.600e-01, 1.296e-01],\n",
       "       [1.000e+00, 8.700e-01, 7.569e-01],\n",
       "       [1.000e+00, 1.200e-01, 1.440e-02],\n",
       "       [1.000e+00, 9.300e-01, 8.649e-01],\n",
       "       [1.000e+00, 5.000e-01, 2.500e-01],\n",
       "       [1.000e+00, 5.600e-01, 3.136e-01],\n",
       "       [1.000e+00, 6.500e-01, 4.225e-01],\n",
       "       [1.000e+00, 1.500e-01, 2.250e-02],\n",
       "       [1.000e+00, 1.500e-01, 2.250e-02],\n",
       "       [1.000e+00, 6.200e-01, 3.844e-01],\n",
       "       [1.000e+00, 2.300e-01, 5.290e-02],\n",
       "       [1.000e+00, 9.100e-01, 8.281e-01],\n",
       "       [1.000e+00, 4.000e-01, 1.600e-01],\n",
       "       [1.000e+00, 1.500e-01, 2.250e-02],\n",
       "       [1.000e+00, 6.900e-01, 4.761e-01],\n",
       "       [1.000e+00, 1.000e-02, 1.000e-04],\n",
       "       [1.000e+00, 2.800e-01, 7.840e-02],\n",
       "       [1.000e+00, 4.900e-01, 2.401e-01],\n",
       "       [1.000e+00, 2.200e-01, 4.840e-02],\n",
       "       [1.000e+00, 4.300e-01, 1.849e-01],\n",
       "       [1.000e+00, 6.100e-01, 3.721e-01],\n",
       "       [1.000e+00, 9.500e-01, 9.025e-01],\n",
       "       [1.000e+00, 4.600e-01, 2.116e-01],\n",
       "       [1.000e+00, 9.900e-01, 9.801e-01],\n",
       "       [1.000e+00, 2.200e-01, 4.840e-02],\n",
       "       [1.000e+00, 9.600e-01, 9.216e-01],\n",
       "       [1.000e+00, 6.900e-01, 4.761e-01]])"
      ]
     },
     "execution_count": 106,
     "metadata": {},
     "output_type": "execute_result"
    }
   ],
   "source": [
    " from sklearn.preprocessing import PolynomialFeatures \n",
    "##Adding polynomial Terms to simple Linear regression model\n",
    "polynom = PolynomialFeatures(degree =2) \n",
    "X_polynom = polynom.fit_transform(X_train) \n",
    "X_polynom"
   ]
  },
  {
   "cell_type": "code",
   "execution_count": 107,
   "id": "958d3d34",
   "metadata": {},
   "outputs": [
    {
     "data": {
      "text/plain": [
       "LinearRegression()"
      ]
     },
     "execution_count": 107,
     "metadata": {},
     "output_type": "execute_result"
    }
   ],
   "source": [
    "PolyModel = LinearRegression() \n",
    "PolyModel.fit(X_polynom, y_train)"
   ]
  },
  {
   "cell_type": "code",
   "execution_count": 108,
   "id": "9986b7d7",
   "metadata": {},
   "outputs": [],
   "source": [
    "y_pred = reg.predict(X_test)"
   ]
  },
  {
   "cell_type": "code",
   "execution_count": 109,
   "id": "4c2c7486",
   "metadata": {},
   "outputs": [],
   "source": [
    "y_pred = PolyModel.predict(polynom.fit_transform(X_test))"
   ]
  },
  {
   "cell_type": "code",
   "execution_count": 110,
   "id": "48a8b2f4",
   "metadata": {},
   "outputs": [
    {
     "data": {
      "text/plain": [
       "[<matplotlib.lines.Line2D at 0x21fa922cca0>]"
      ]
     },
     "execution_count": 110,
     "metadata": {},
     "output_type": "execute_result"
    },
    {
     "data": {
      "image/png": "[encoded data removed]",
      "text/plain": [
       "<Figure size 432x288 with 1 Axes>"
      ]
     },
     "metadata": {
      "needs_background": "light"
     },
     "output_type": "display_data"
    }
   ],
   "source": [
    "plt.scatter(X,y,color='r')\n",
    "plt.plot(X,PolyModel.predict(polynom.fit_transform(X)),color='black')"
   ]
  },
  {
   "cell_type": "markdown",
   "id": "f14bb309",
   "metadata": {},
   "source": [
    "# Conclusion :as per this ans we can see polynominal regression model giving more accurate output"
   ]
  },
  {
   "cell_type": "markdown",
   "id": "7e977e9a",
   "metadata": {},
   "source": [
    "Problem Statement 2:"
   ]
  },
  {
   "cell_type": "markdown",
   "id": "08c36b92",
   "metadata": {},
   "source": [
    "# Problem Statement 2"
   ]
  },
  {
   "cell_type": "code",
   "execution_count": 128,
   "id": "f8c984a8",
   "metadata": {},
   "outputs": [],
   "source": [
    "import pandas as pd\n",
    "import numpy as np\n",
    "import matplotlib.pyplot as plt"
   ]
  },
  {
   "cell_type": "code",
   "execution_count": 129,
   "id": "b0d0e4dc",
   "metadata": {},
   "outputs": [],
   "source": [
    "df = {\n",
    "'Id':[1,2,3,4,5,6,7,8,9,10,11,12,13,14],\n",
    "'Age':['<21','<21','21-35','>35','>35','>35','21-35','<21','<21','>35','<21','21-35','21-35','>35'],\n",
    "'Income':['High','High','High','Medium','Low','Low','Low','Medium','Low','Medium','Medium','Medium','High','Medium'],\n",
    "'Gender':['Male','Male','Male','Male','Female','Female','Female','Male','Female','Female','Female','Male','Female','Male'],\n",
    "'MaritalStatus':['Single','Married','Single','Single','Single','Married','Married','Single','Married','Single','Married','Married','Single','Married'],\n",
    "'Buys':['No','No','Yes','Yes','Yes','No','Yes','No','Yes','Yes','Yes','Yes','Yes','No']}"
   ]
  },
  {
   "cell_type": "code",
   "execution_count": 130,
   "id": "817873bb",
   "metadata": {},
   "outputs": [],
   "source": [
    "df = pd.DataFrame(df,columns=['Id','Age','Income','Gender','MaritalStatus','Buys'])"
   ]
  },
  {
   "cell_type": "code",
   "execution_count": 131,
   "id": "f18ff878",
   "metadata": {},
   "outputs": [
    {
     "data": {
      "text/html": [
       "<div>\n",
       "<style scoped>\n",
       "    .dataframe tbody tr th:only-of-type {\n",
       "        vertical-align: middle;\n",
       "    }\n",
       "\n",
       "    .dataframe tbody tr th {\n",
       "        vertical-align: top;\n",
       "    }\n",
       "\n",
       "    .dataframe thead th {\n",
       "        text-align: right;\n",
       "    }\n",
       "</style>\n",
       "<table border=\"1\" class=\"dataframe\">\n",
       "  <thead>\n",
       "    <tr style=\"text-align: right;\">\n",
       "      <th></th>\n",
       "      <th>Id</th>\n",
       "      <th>Age</th>\n",
       "      <th>Income</th>\n",
       "      <th>Gender</th>\n",
       "      <th>MaritalStatus</th>\n",
       "      <th>Buys</th>\n",
       "    </tr>\n",
       "  </thead>\n",
       "  <tbody>\n",
       "    <tr>\n",
       "      <th>0</th>\n",
       "      <td>1</td>\n",
       "      <td>&lt;21</td>\n",
       "      <td>High</td>\n",
       "      <td>Male</td>\n",
       "      <td>Single</td>\n",
       "      <td>No</td>\n",
       "    </tr>\n",
       "    <tr>\n",
       "      <th>1</th>\n",
       "      <td>2</td>\n",
       "      <td>&lt;21</td>\n",
       "      <td>High</td>\n",
       "      <td>Male</td>\n",
       "      <td>Married</td>\n",
       "      <td>No</td>\n",
       "    </tr>\n",
       "    <tr>\n",
       "      <th>2</th>\n",
       "      <td>3</td>\n",
       "      <td>21-35</td>\n",
       "      <td>High</td>\n",
       "      <td>Male</td>\n",
       "      <td>Single</td>\n",
       "      <td>Yes</td>\n",
       "    </tr>\n",
       "    <tr>\n",
       "      <th>3</th>\n",
       "      <td>4</td>\n",
       "      <td>&gt;35</td>\n",
       "      <td>Medium</td>\n",
       "      <td>Male</td>\n",
       "      <td>Single</td>\n",
       "      <td>Yes</td>\n",
       "    </tr>\n",
       "    <tr>\n",
       "      <th>4</th>\n",
       "      <td>5</td>\n",
       "      <td>&gt;35</td>\n",
       "      <td>Low</td>\n",
       "      <td>Female</td>\n",
       "      <td>Single</td>\n",
       "      <td>Yes</td>\n",
       "    </tr>\n",
       "    <tr>\n",
       "      <th>5</th>\n",
       "      <td>6</td>\n",
       "      <td>&gt;35</td>\n",
       "      <td>Low</td>\n",
       "      <td>Female</td>\n",
       "      <td>Married</td>\n",
       "      <td>No</td>\n",
       "    </tr>\n",
       "    <tr>\n",
       "      <th>6</th>\n",
       "      <td>7</td>\n",
       "      <td>21-35</td>\n",
       "      <td>Low</td>\n",
       "      <td>Female</td>\n",
       "      <td>Married</td>\n",
       "      <td>Yes</td>\n",
       "    </tr>\n",
       "    <tr>\n",
       "      <th>7</th>\n",
       "      <td>8</td>\n",
       "      <td>&lt;21</td>\n",
       "      <td>Medium</td>\n",
       "      <td>Male</td>\n",
       "      <td>Single</td>\n",
       "      <td>No</td>\n",
       "    </tr>\n",
       "    <tr>\n",
       "      <th>8</th>\n",
       "      <td>9</td>\n",
       "      <td>&lt;21</td>\n",
       "      <td>Low</td>\n",
       "      <td>Female</td>\n",
       "      <td>Married</td>\n",
       "      <td>Yes</td>\n",
       "    </tr>\n",
       "    <tr>\n",
       "      <th>9</th>\n",
       "      <td>10</td>\n",
       "      <td>&gt;35</td>\n",
       "      <td>Medium</td>\n",
       "      <td>Female</td>\n",
       "      <td>Single</td>\n",
       "      <td>Yes</td>\n",
       "    </tr>\n",
       "    <tr>\n",
       "      <th>10</th>\n",
       "      <td>11</td>\n",
       "      <td>&lt;21</td>\n",
       "      <td>Medium</td>\n",
       "      <td>Female</td>\n",
       "      <td>Married</td>\n",
       "      <td>Yes</td>\n",
       "    </tr>\n",
       "    <tr>\n",
       "      <th>11</th>\n",
       "      <td>12</td>\n",
       "      <td>21-35</td>\n",
       "      <td>Medium</td>\n",
       "      <td>Male</td>\n",
       "      <td>Married</td>\n",
       "      <td>Yes</td>\n",
       "    </tr>\n",
       "    <tr>\n",
       "      <th>12</th>\n",
       "      <td>13</td>\n",
       "      <td>21-35</td>\n",
       "      <td>High</td>\n",
       "      <td>Female</td>\n",
       "      <td>Single</td>\n",
       "      <td>Yes</td>\n",
       "    </tr>\n",
       "    <tr>\n",
       "      <th>13</th>\n",
       "      <td>14</td>\n",
       "      <td>&gt;35</td>\n",
       "      <td>Medium</td>\n",
       "      <td>Male</td>\n",
       "      <td>Married</td>\n",
       "      <td>No</td>\n",
       "    </tr>\n",
       "  </tbody>\n",
       "</table>\n",
       "</div>"
      ],
      "text/plain": [
       "    Id    Age  Income  Gender MaritalStatus Buys\n",
       "0    1    <21    High    Male        Single   No\n",
       "1    2    <21    High    Male       Married   No\n",
       "2    3  21-35    High    Male        Single  Yes\n",
       "3    4    >35  Medium    Male        Single  Yes\n",
       "4    5    >35     Low  Female        Single  Yes\n",
       "5    6    >35     Low  Female       Married   No\n",
       "6    7  21-35     Low  Female       Married  Yes\n",
       "7    8    <21  Medium    Male        Single   No\n",
       "8    9    <21     Low  Female       Married  Yes\n",
       "9   10    >35  Medium  Female        Single  Yes\n",
       "10  11    <21  Medium  Female       Married  Yes\n",
       "11  12  21-35  Medium    Male       Married  Yes\n",
       "12  13  21-35    High  Female        Single  Yes\n",
       "13  14    >35  Medium    Male       Married   No"
      ]
     },
     "execution_count": 131,
     "metadata": {},
     "output_type": "execute_result"
    }
   ],
   "source": [
    "df"
   ]
  },
  {
   "cell_type": "code",
   "execution_count": 132,
   "id": "fea88259",
   "metadata": {},
   "outputs": [],
   "source": [
    "df=df.drop(['Id'], axis=1)"
   ]
  },
  {
   "cell_type": "code",
   "execution_count": 133,
   "id": "91356d05",
   "metadata": {},
   "outputs": [
    {
     "data": {
      "text/html": [
       "<div>\n",
       "<style scoped>\n",
       "    .dataframe tbody tr th:only-of-type {\n",
       "        vertical-align: middle;\n",
       "    }\n",
       "\n",
       "    .dataframe tbody tr th {\n",
       "        vertical-align: top;\n",
       "    }\n",
       "\n",
       "    .dataframe thead th {\n",
       "        text-align: right;\n",
       "    }\n",
       "</style>\n",
       "<table border=\"1\" class=\"dataframe\">\n",
       "  <thead>\n",
       "    <tr style=\"text-align: right;\">\n",
       "      <th></th>\n",
       "      <th>Age</th>\n",
       "      <th>Income</th>\n",
       "      <th>Gender</th>\n",
       "      <th>MaritalStatus</th>\n",
       "      <th>Buys</th>\n",
       "    </tr>\n",
       "  </thead>\n",
       "  <tbody>\n",
       "    <tr>\n",
       "      <th>count</th>\n",
       "      <td>14</td>\n",
       "      <td>14</td>\n",
       "      <td>14</td>\n",
       "      <td>14</td>\n",
       "      <td>14</td>\n",
       "    </tr>\n",
       "    <tr>\n",
       "      <th>unique</th>\n",
       "      <td>3</td>\n",
       "      <td>3</td>\n",
       "      <td>2</td>\n",
       "      <td>2</td>\n",
       "      <td>2</td>\n",
       "    </tr>\n",
       "    <tr>\n",
       "      <th>top</th>\n",
       "      <td>&lt;21</td>\n",
       "      <td>Medium</td>\n",
       "      <td>Male</td>\n",
       "      <td>Single</td>\n",
       "      <td>Yes</td>\n",
       "    </tr>\n",
       "    <tr>\n",
       "      <th>freq</th>\n",
       "      <td>5</td>\n",
       "      <td>6</td>\n",
       "      <td>7</td>\n",
       "      <td>7</td>\n",
       "      <td>9</td>\n",
       "    </tr>\n",
       "  </tbody>\n",
       "</table>\n",
       "</div>"
      ],
      "text/plain": [
       "        Age  Income Gender MaritalStatus Buys\n",
       "count    14      14     14            14   14\n",
       "unique    3       3      2             2    2\n",
       "top     <21  Medium   Male        Single  Yes\n",
       "freq      5       6      7             7    9"
      ]
     },
     "execution_count": 133,
     "metadata": {},
     "output_type": "execute_result"
    }
   ],
   "source": [
    "df.describe()"
   ]
  },
  {
   "cell_type": "code",
   "execution_count": 134,
   "id": "17abc6ab",
   "metadata": {},
   "outputs": [
    {
     "data": {
      "text/html": [
       "<div>\n",
       "<style scoped>\n",
       "    .dataframe tbody tr th:only-of-type {\n",
       "        vertical-align: middle;\n",
       "    }\n",
       "\n",
       "    .dataframe tbody tr th {\n",
       "        vertical-align: top;\n",
       "    }\n",
       "\n",
       "    .dataframe thead th {\n",
       "        text-align: right;\n",
       "    }\n",
       "</style>\n",
       "<table border=\"1\" class=\"dataframe\">\n",
       "  <thead>\n",
       "    <tr style=\"text-align: right;\">\n",
       "      <th></th>\n",
       "      <th>Income</th>\n",
       "      <th>Gender</th>\n",
       "      <th>MaritalStatus</th>\n",
       "      <th>Buys</th>\n",
       "    </tr>\n",
       "    <tr>\n",
       "      <th>Age</th>\n",
       "      <th></th>\n",
       "      <th></th>\n",
       "      <th></th>\n",
       "      <th></th>\n",
       "    </tr>\n",
       "  </thead>\n",
       "  <tbody>\n",
       "    <tr>\n",
       "      <th>21-35</th>\n",
       "      <td>4</td>\n",
       "      <td>4</td>\n",
       "      <td>4</td>\n",
       "      <td>4</td>\n",
       "    </tr>\n",
       "    <tr>\n",
       "      <th>&lt;21</th>\n",
       "      <td>5</td>\n",
       "      <td>5</td>\n",
       "      <td>5</td>\n",
       "      <td>5</td>\n",
       "    </tr>\n",
       "    <tr>\n",
       "      <th>&gt;35</th>\n",
       "      <td>5</td>\n",
       "      <td>5</td>\n",
       "      <td>5</td>\n",
       "      <td>5</td>\n",
       "    </tr>\n",
       "  </tbody>\n",
       "</table>\n",
       "</div>"
      ],
      "text/plain": [
       "       Income  Gender  MaritalStatus  Buys\n",
       "Age                                       \n",
       "21-35       4       4              4     4\n",
       "<21         5       5              5     5\n",
       ">35         5       5              5     5"
      ]
     },
     "execution_count": 134,
     "metadata": {},
     "output_type": "execute_result"
    }
   ],
   "source": [
    "df.groupby('Age').count()"
   ]
  },
  {
   "cell_type": "code",
   "execution_count": 119,
   "id": "728fed60",
   "metadata": {},
   "outputs": [
    {
     "data": {
      "text/html": [
       "<div>\n",
       "<style scoped>\n",
       "    .dataframe tbody tr th:only-of-type {\n",
       "        vertical-align: middle;\n",
       "    }\n",
       "\n",
       "    .dataframe tbody tr th {\n",
       "        vertical-align: top;\n",
       "    }\n",
       "\n",
       "    .dataframe thead th {\n",
       "        text-align: right;\n",
       "    }\n",
       "</style>\n",
       "<table border=\"1\" class=\"dataframe\">\n",
       "  <thead>\n",
       "    <tr style=\"text-align: right;\">\n",
       "      <th></th>\n",
       "      <th>Age</th>\n",
       "      <th>Gender</th>\n",
       "      <th>MaritalStatus</th>\n",
       "      <th>Buys</th>\n",
       "    </tr>\n",
       "    <tr>\n",
       "      <th>Income</th>\n",
       "      <th></th>\n",
       "      <th></th>\n",
       "      <th></th>\n",
       "      <th></th>\n",
       "    </tr>\n",
       "  </thead>\n",
       "  <tbody>\n",
       "    <tr>\n",
       "      <th>High</th>\n",
       "      <td>4</td>\n",
       "      <td>4</td>\n",
       "      <td>4</td>\n",
       "      <td>4</td>\n",
       "    </tr>\n",
       "    <tr>\n",
       "      <th>Low</th>\n",
       "      <td>4</td>\n",
       "      <td>4</td>\n",
       "      <td>4</td>\n",
       "      <td>4</td>\n",
       "    </tr>\n",
       "    <tr>\n",
       "      <th>Medium</th>\n",
       "      <td>6</td>\n",
       "      <td>6</td>\n",
       "      <td>6</td>\n",
       "      <td>6</td>\n",
       "    </tr>\n",
       "  </tbody>\n",
       "</table>\n",
       "</div>"
      ],
      "text/plain": [
       "        Age  Gender  MaritalStatus  Buys\n",
       "Income                                  \n",
       "High      4       4              4     4\n",
       "Low       4       4              4     4\n",
       "Medium    6       6              6     6"
      ]
     },
     "execution_count": 119,
     "metadata": {},
     "output_type": "execute_result"
    }
   ],
   "source": [
    "df.groupby('Income').count()"
   ]
  },
  {
   "cell_type": "code",
   "execution_count": 120,
   "id": "8feadce8",
   "metadata": {},
   "outputs": [
    {
     "data": {
      "text/html": [
       "<div>\n",
       "<style scoped>\n",
       "    .dataframe tbody tr th:only-of-type {\n",
       "        vertical-align: middle;\n",
       "    }\n",
       "\n",
       "    .dataframe tbody tr th {\n",
       "        vertical-align: top;\n",
       "    }\n",
       "\n",
       "    .dataframe thead th {\n",
       "        text-align: right;\n",
       "    }\n",
       "</style>\n",
       "<table border=\"1\" class=\"dataframe\">\n",
       "  <thead>\n",
       "    <tr style=\"text-align: right;\">\n",
       "      <th></th>\n",
       "      <th>Age</th>\n",
       "      <th>Income</th>\n",
       "      <th>MaritalStatus</th>\n",
       "      <th>Buys</th>\n",
       "    </tr>\n",
       "    <tr>\n",
       "      <th>Gender</th>\n",
       "      <th></th>\n",
       "      <th></th>\n",
       "      <th></th>\n",
       "      <th></th>\n",
       "    </tr>\n",
       "  </thead>\n",
       "  <tbody>\n",
       "    <tr>\n",
       "      <th>Female</th>\n",
       "      <td>7</td>\n",
       "      <td>7</td>\n",
       "      <td>7</td>\n",
       "      <td>7</td>\n",
       "    </tr>\n",
       "    <tr>\n",
       "      <th>Male</th>\n",
       "      <td>7</td>\n",
       "      <td>7</td>\n",
       "      <td>7</td>\n",
       "      <td>7</td>\n",
       "    </tr>\n",
       "  </tbody>\n",
       "</table>\n",
       "</div>"
      ],
      "text/plain": [
       "        Age  Income  MaritalStatus  Buys\n",
       "Gender                                  \n",
       "Female    7       7              7     7\n",
       "Male      7       7              7     7"
      ]
     },
     "execution_count": 120,
     "metadata": {},
     "output_type": "execute_result"
    }
   ],
   "source": [
    "df.groupby('Gender').count()"
   ]
  },
  {
   "cell_type": "code",
   "execution_count": 123,
   "id": "114c117d",
   "metadata": {},
   "outputs": [],
   "source": [
    "X=df.iloc[:,:-1]\n",
    "y=df.iloc[:,-1]"
   ]
  },
  {
   "cell_type": "code",
   "execution_count": 124,
   "id": "acef4da4",
   "metadata": {},
   "outputs": [
    {
     "data": {
      "text/plain": [
       "DecisionTreeClassifier(criterion='entropy')"
      ]
     },
     "execution_count": 124,
     "metadata": {},
     "output_type": "execute_result"
    }
   ],
   "source": [
    "from sklearn.tree import DecisionTreeClassifier\n",
    "classifier=DecisionTreeClassifier(criterion='entropy')\n",
    "classifier.fit(x,y)"
   ]
  },
  {
   "cell_type": "code",
   "execution_count": 125,
   "id": "1629a396",
   "metadata": {},
   "outputs": [],
   "source": [
    "from sklearn.model_selection import train_test_split\n",
    "x_train,x_test,y_train, y_test=train_test_split(x,y,test_size=0.25,random_state=0)"
   ]
  },
  {
   "cell_type": "code",
   "execution_count": 126,
   "id": "11494b74",
   "metadata": {},
   "outputs": [
    {
     "data": {
      "text/plain": [
       "DecisionTreeClassifier(criterion='entropy', random_state=0)"
      ]
     },
     "execution_count": 126,
     "metadata": {},
     "output_type": "execute_result"
    }
   ],
   "source": [
    "from sklearn.tree import DecisionTreeClassifier\n",
    "classifier=DecisionTreeClassifier(criterion='entropy', random_state=0)\n",
    "classifier.fit(x_train,y_train)"
   ]
  },
  {
   "cell_type": "code",
   "execution_count": 127,
   "id": "040c1fb5",
   "metadata": {},
   "outputs": [],
   "source": [
    "y_pred=classifier.predict(x_test)"
   ]
  },
  {
   "cell_type": "code",
   "execution_count": 92,
   "id": "40d8ae52",
   "metadata": {},
   "outputs": [
    {
     "data": {
      "text/plain": [
       "array([[0, 0],\n",
       "       [2, 2]], dtype=int64)"
      ]
     },
     "execution_count": 92,
     "metadata": {},
     "output_type": "execute_result"
    }
   ],
   "source": [
    "from sklearn.metrics import confusion_matrix, accuracy_score, classification_report\n",
    "cm=confusion_matrix(y_test,y_pred)\n",
    "cm"
   ]
  },
  {
   "cell_type": "code",
   "execution_count": 93,
   "id": "cc910929",
   "metadata": {},
   "outputs": [
    {
     "data": {
      "text/plain": [
       "0.5"
      ]
     },
     "execution_count": 93,
     "metadata": {},
     "output_type": "execute_result"
    }
   ],
   "source": [
    "accuracy_score(y_test,y_pred)"
   ]
  },
  {
   "cell_type": "code",
   "execution_count": null,
   "id": "f82f2a1f",
   "metadata": {},
   "outputs": [],
   "source": []
  },
  {
   "cell_type": "code",
   "execution_count": null,
   "id": "c9e17a50",
   "metadata": {},
   "outputs": [],
   "source": []
  }
 ],
 "metadata": {
  "kernelspec": {
   "display_name": "Python 3 (ipykernel)",
   "language": "python",
   "name": "python3"
  },
  "language_info": {
   "codemirror_mode": {
    "name": "ipython",
    "version": 3
   },
   "file_extension": ".py",
   "mimetype": "text/x-python",
   "name": "python",
   "nbconvert_exporter": "python",
   "pygments_lexer": "ipython3",
   "version": "3.9.12"
  }
 },
 "nbformat": 4,
 "nbformat_minor": 5
}
